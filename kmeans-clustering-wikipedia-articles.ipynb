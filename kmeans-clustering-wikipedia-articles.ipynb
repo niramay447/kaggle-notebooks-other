{
 "cells": [
  {
   "cell_type": "code",
   "execution_count": 1,
   "id": "de889cd3",
   "metadata": {
    "execution": {
     "iopub.execute_input": "2022-11-03T19:19:38.669723Z",
     "iopub.status.busy": "2022-11-03T19:19:38.669245Z",
     "iopub.status.idle": "2022-11-03T19:19:54.551499Z",
     "shell.execute_reply": "2022-11-03T19:19:54.550032Z"
    },
    "papermill": {
     "duration": 15.890672,
     "end_time": "2022-11-03T19:19:54.554455",
     "exception": false,
     "start_time": "2022-11-03T19:19:38.663783",
     "status": "completed"
    },
    "tags": []
   },
   "outputs": [
    {
     "name": "stdout",
     "output_type": "stream",
     "text": [
      "Collecting wikipedia\r\n",
      "  Downloading wikipedia-1.4.0.tar.gz (27 kB)\r\n",
      "  Preparing metadata (setup.py) ... \u001b[?25l-\b \bdone\r\n",
      "\u001b[?25hRequirement already satisfied: beautifulsoup4 in /opt/conda/lib/python3.7/site-packages (from wikipedia) (4.11.1)\r\n",
      "Requirement already satisfied: requests<3.0.0,>=2.0.0 in /opt/conda/lib/python3.7/site-packages (from wikipedia) (2.28.1)\r\n",
      "Requirement already satisfied: idna<4,>=2.5 in /opt/conda/lib/python3.7/site-packages (from requests<3.0.0,>=2.0.0->wikipedia) (3.3)\r\n",
      "Requirement already satisfied: urllib3<1.27,>=1.21.1 in /opt/conda/lib/python3.7/site-packages (from requests<3.0.0,>=2.0.0->wikipedia) (1.26.12)\r\n",
      "Requirement already satisfied: certifi>=2017.4.17 in /opt/conda/lib/python3.7/site-packages (from requests<3.0.0,>=2.0.0->wikipedia) (2022.9.24)\r\n",
      "Requirement already satisfied: charset-normalizer<3,>=2 in /opt/conda/lib/python3.7/site-packages (from requests<3.0.0,>=2.0.0->wikipedia) (2.1.0)\r\n",
      "Requirement already satisfied: soupsieve>1.2 in /opt/conda/lib/python3.7/site-packages (from beautifulsoup4->wikipedia) (2.3.1)\r\n",
      "Building wheels for collected packages: wikipedia\r\n",
      "  Building wheel for wikipedia (setup.py) ... \u001b[?25l-\b \b\\\b \bdone\r\n",
      "\u001b[?25h  Created wheel for wikipedia: filename=wikipedia-1.4.0-py3-none-any.whl size=11695 sha256=df8f743b81f0de0e1aee05af850eaed9e7ad739d9c037306c5664dd0429d7a54\r\n",
      "  Stored in directory: /root/.cache/pip/wheels/15/93/6d/5b2c68b8a64c7a7a04947b4ed6d89fb557dcc6bc27d1d7f3ba\r\n",
      "Successfully built wikipedia\r\n",
      "Installing collected packages: wikipedia\r\n",
      "Successfully installed wikipedia-1.4.0\r\n",
      "\u001b[33mWARNING: Running pip as the 'root' user can result in broken permissions and conflicting behaviour with the system package manager. It is recommended to use a virtual environment instead: https://pip.pypa.io/warnings/venv\u001b[0m\u001b[33m\r\n",
      "\u001b[0m"
     ]
    }
   ],
   "source": [
    "!pip install wikipedia"
   ]
  },
  {
   "cell_type": "code",
   "execution_count": 2,
   "id": "b28b7afa",
   "metadata": {
    "_cell_guid": "b1076dfc-b9ad-4769-8c92-a6c4dae69d19",
    "_uuid": "8f2839f25d086af736a60e9eeb907d3b93b6e0e5",
    "execution": {
     "iopub.execute_input": "2022-11-03T19:19:54.563630Z",
     "iopub.status.busy": "2022-11-03T19:19:54.563163Z",
     "iopub.status.idle": "2022-11-03T19:19:56.143295Z",
     "shell.execute_reply": "2022-11-03T19:19:56.142190Z"
    },
    "papermill": {
     "duration": 1.587879,
     "end_time": "2022-11-03T19:19:56.146058",
     "exception": false,
     "start_time": "2022-11-03T19:19:54.558179",
     "status": "completed"
    },
    "tags": []
   },
   "outputs": [],
   "source": [
    "import numpy as np \n",
    "import pandas as pd \n",
    "import wikipedia\n",
    "from sklearn.feature_extraction.text import TfidfVectorizer\n",
    "import matplotlib.pyplot as plt\n",
    "from sklearn.cluster import KMeans\n",
    "\n",
    "import os\n",
    "for dirname, _, filenames in os.walk('/kaggle/input'):\n",
    "    for filename in filenames:\n",
    "        print(os.path.join(dirname, filename))"
   ]
  },
  {
   "cell_type": "code",
   "execution_count": 3,
   "id": "6ac16ad1",
   "metadata": {
    "execution": {
     "iopub.execute_input": "2022-11-03T19:19:56.154245Z",
     "iopub.status.busy": "2022-11-03T19:19:56.153834Z",
     "iopub.status.idle": "2022-11-03T19:19:56.158988Z",
     "shell.execute_reply": "2022-11-03T19:19:56.158099Z"
    },
    "papermill": {
     "duration": 0.011603,
     "end_time": "2022-11-03T19:19:56.160956",
     "exception": false,
     "start_time": "2022-11-03T19:19:56.149353",
     "status": "completed"
    },
    "tags": []
   },
   "outputs": [],
   "source": [
    "articles = ['Apple','MacBook','Time Cook', 'Elon', 'Twitter', 'verified account', 'COVID', 'vaccine', 'quarantine']"
   ]
  },
  {
   "cell_type": "code",
   "execution_count": 4,
   "id": "a6ff0b3e",
   "metadata": {
    "execution": {
     "iopub.execute_input": "2022-11-03T19:19:56.169866Z",
     "iopub.status.busy": "2022-11-03T19:19:56.169071Z",
     "iopub.status.idle": "2022-11-03T19:20:37.615145Z",
     "shell.execute_reply": "2022-11-03T19:20:37.614049Z"
    },
    "papermill": {
     "duration": 41.45348,
     "end_time": "2022-11-03T19:20:37.617809",
     "exception": false,
     "start_time": "2022-11-03T19:19:56.164329",
     "status": "completed"
    },
    "tags": []
   },
   "outputs": [],
   "source": [
    "wikis = []\n",
    "titles = []\n",
    "\n",
    "for article in articles:\n",
    "    wikis.append(wikipedia.page(article).content)\n",
    "    titles.append(article)"
   ]
  },
  {
   "cell_type": "code",
   "execution_count": 5,
   "id": "9d651015",
   "metadata": {
    "execution": {
     "iopub.execute_input": "2022-11-03T19:20:37.626108Z",
     "iopub.status.busy": "2022-11-03T19:20:37.625730Z",
     "iopub.status.idle": "2022-11-03T19:20:37.690973Z",
     "shell.execute_reply": "2022-11-03T19:20:37.689763Z"
    },
    "papermill": {
     "duration": 0.072357,
     "end_time": "2022-11-03T19:20:37.693601",
     "exception": false,
     "start_time": "2022-11-03T19:20:37.621244",
     "status": "completed"
    },
    "tags": []
   },
   "outputs": [],
   "source": [
    "vectorizer = TfidfVectorizer(stop_words={'english'})\n",
    "X = vectorizer.fit_transform(wikis)"
   ]
  },
  {
   "cell_type": "code",
   "execution_count": null,
   "id": "bf62675f",
   "metadata": {
    "papermill": {
     "duration": 0.002926,
     "end_time": "2022-11-03T19:20:37.699825",
     "exception": false,
     "start_time": "2022-11-03T19:20:37.696899",
     "status": "completed"
    },
    "tags": []
   },
   "outputs": [],
   "source": []
  },
  {
   "cell_type": "code",
   "execution_count": null,
   "id": "4d715245",
   "metadata": {
    "papermill": {
     "duration": 0.002768,
     "end_time": "2022-11-03T19:20:37.705630",
     "exception": false,
     "start_time": "2022-11-03T19:20:37.702862",
     "status": "completed"
    },
    "tags": []
   },
   "outputs": [],
   "source": []
  }
 ],
 "metadata": {
  "kernelspec": {
   "display_name": "Python 3",
   "language": "python",
   "name": "python3"
  },
  "language_info": {
   "codemirror_mode": {
    "name": "ipython",
    "version": 3
   },
   "file_extension": ".py",
   "mimetype": "text/x-python",
   "name": "python",
   "nbconvert_exporter": "python",
   "pygments_lexer": "ipython3",
   "version": "3.7.12"
  },
  "papermill": {
   "default_parameters": {},
   "duration": 68.294798,
   "end_time": "2022-11-03T19:20:38.430396",
   "environment_variables": {},
   "exception": null,
   "input_path": "__notebook__.ipynb",
   "output_path": "__notebook__.ipynb",
   "parameters": {},
   "start_time": "2022-11-03T19:19:30.135598",
   "version": "2.3.4"
  }
 },
 "nbformat": 4,
 "nbformat_minor": 5
}
