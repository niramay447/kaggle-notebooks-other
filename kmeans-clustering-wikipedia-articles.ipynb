{
 "cells": [
  {
   "cell_type": "code",
   "execution_count": 1,
   "id": "920a62ea",
   "metadata": {
    "execution": {
     "iopub.execute_input": "2022-11-03T19:19:53.385398Z",
     "iopub.status.busy": "2022-11-03T19:19:53.384992Z",
     "iopub.status.idle": "2022-11-03T19:20:05.343327Z",
     "shell.execute_reply": "2022-11-03T19:20:05.342386Z"
    },
    "papermill": {
     "duration": 11.9654,
     "end_time": "2022-11-03T19:20:05.345573",
     "exception": false,
     "start_time": "2022-11-03T19:19:53.380173",
     "status": "completed"
    },
    "tags": []
   },
   "outputs": [
    {
     "name": "stdout",
     "output_type": "stream",
     "text": [
      "Collecting wikipedia\r\n",
      "  Downloading wikipedia-1.4.0.tar.gz (27 kB)\r\n",
      "  Preparing metadata (setup.py) ... \u001b[?25l-\b \bdone\r\n",
      "\u001b[?25hRequirement already satisfied: beautifulsoup4 in /opt/conda/lib/python3.7/site-packages (from wikipedia) (4.11.1)\r\n",
      "Requirement already satisfied: requests<3.0.0,>=2.0.0 in /opt/conda/lib/python3.7/site-packages (from wikipedia) (2.28.1)\r\n",
      "Requirement already satisfied: idna<4,>=2.5 in /opt/conda/lib/python3.7/site-packages (from requests<3.0.0,>=2.0.0->wikipedia) (3.3)\r\n",
      "Requirement already satisfied: charset-normalizer<3,>=2 in /opt/conda/lib/python3.7/site-packages (from requests<3.0.0,>=2.0.0->wikipedia) (2.1.0)\r\n",
      "Requirement already satisfied: certifi>=2017.4.17 in /opt/conda/lib/python3.7/site-packages (from requests<3.0.0,>=2.0.0->wikipedia) (2022.9.24)\r\n",
      "Requirement already satisfied: urllib3<1.27,>=1.21.1 in /opt/conda/lib/python3.7/site-packages (from requests<3.0.0,>=2.0.0->wikipedia) (1.26.12)\r\n",
      "Requirement already satisfied: soupsieve>1.2 in /opt/conda/lib/python3.7/site-packages (from beautifulsoup4->wikipedia) (2.3.1)\r\n",
      "Building wheels for collected packages: wikipedia\r\n",
      "  Building wheel for wikipedia (setup.py) ... \u001b[?25l-\b \b\\\b \bdone\r\n",
      "\u001b[?25h  Created wheel for wikipedia: filename=wikipedia-1.4.0-py3-none-any.whl size=11695 sha256=e6a0a9a4eeeb5f05ac314a371e2aa20a3b93663e73b7a98aa3f057bb55d540ab\r\n",
      "  Stored in directory: /root/.cache/pip/wheels/15/93/6d/5b2c68b8a64c7a7a04947b4ed6d89fb557dcc6bc27d1d7f3ba\r\n",
      "Successfully built wikipedia\r\n",
      "Installing collected packages: wikipedia\r\n",
      "Successfully installed wikipedia-1.4.0\r\n",
      "\u001b[33mWARNING: Running pip as the 'root' user can result in broken permissions and conflicting behaviour with the system package manager. It is recommended to use a virtual environment instead: https://pip.pypa.io/warnings/venv\u001b[0m\u001b[33m\r\n",
      "\u001b[0m"
     ]
    }
   ],
   "source": [
    "!pip install wikipedia"
   ]
  },
  {
   "cell_type": "code",
   "execution_count": 2,
   "id": "6fdd3615",
   "metadata": {
    "_cell_guid": "b1076dfc-b9ad-4769-8c92-a6c4dae69d19",
    "_uuid": "8f2839f25d086af736a60e9eeb907d3b93b6e0e5",
    "execution": {
     "iopub.execute_input": "2022-11-03T19:20:05.352414Z",
     "iopub.status.busy": "2022-11-03T19:20:05.352181Z",
     "iopub.status.idle": "2022-11-03T19:20:06.595109Z",
     "shell.execute_reply": "2022-11-03T19:20:06.594106Z"
    },
    "papermill": {
     "duration": 1.249145,
     "end_time": "2022-11-03T19:20:06.597707",
     "exception": false,
     "start_time": "2022-11-03T19:20:05.348562",
     "status": "completed"
    },
    "tags": []
   },
   "outputs": [],
   "source": [
    "import numpy as np \n",
    "import pandas as pd \n",
    "import wikipedia\n",
    "from sklearn.feature_extraction.text import TfidfVectorizer\n",
    "import matplotlib.pyplot as plt\n",
    "from sklearn.cluster import KMeans\n",
    "\n",
    "import os\n",
    "for dirname, _, filenames in os.walk('/kaggle/input'):\n",
    "    for filename in filenames:\n",
    "        print(os.path.join(dirname, filename))"
   ]
  },
  {
   "cell_type": "code",
   "execution_count": 3,
   "id": "442f272f",
   "metadata": {
    "execution": {
     "iopub.execute_input": "2022-11-03T19:20:06.605349Z",
     "iopub.status.busy": "2022-11-03T19:20:06.604464Z",
     "iopub.status.idle": "2022-11-03T19:20:06.609435Z",
     "shell.execute_reply": "2022-11-03T19:20:06.608759Z"
    },
    "papermill": {
     "duration": 0.010467,
     "end_time": "2022-11-03T19:20:06.611198",
     "exception": false,
     "start_time": "2022-11-03T19:20:06.600731",
     "status": "completed"
    },
    "tags": []
   },
   "outputs": [],
   "source": [
    "articles = ['Apple','MacBook','Time Cook', 'Elon', 'Twitter', 'verified account', 'COVID', 'vaccine', 'quarantine']"
   ]
  },
  {
   "cell_type": "code",
   "execution_count": 4,
   "id": "9d503cb2",
   "metadata": {
    "execution": {
     "iopub.execute_input": "2022-11-03T19:20:06.618795Z",
     "iopub.status.busy": "2022-11-03T19:20:06.618020Z",
     "iopub.status.idle": "2022-11-03T19:20:28.646025Z",
     "shell.execute_reply": "2022-11-03T19:20:28.645105Z"
    },
    "papermill": {
     "duration": 22.033911,
     "end_time": "2022-11-03T19:20:28.648097",
     "exception": false,
     "start_time": "2022-11-03T19:20:06.614186",
     "status": "completed"
    },
    "tags": []
   },
   "outputs": [],
   "source": [
    "wikis = []\n",
    "titles = []\n",
    "\n",
    "for article in articles:\n",
    "    wikis.append(wikipedia.page(article).content)\n",
    "    titles.append(article)"
   ]
  },
  {
   "cell_type": "code",
   "execution_count": 5,
   "id": "276735fb",
   "metadata": {
    "execution": {
     "iopub.execute_input": "2022-11-03T19:20:28.654798Z",
     "iopub.status.busy": "2022-11-03T19:20:28.654524Z",
     "iopub.status.idle": "2022-11-03T19:20:28.705838Z",
     "shell.execute_reply": "2022-11-03T19:20:28.704971Z"
    },
    "papermill": {
     "duration": 0.057122,
     "end_time": "2022-11-03T19:20:28.708124",
     "exception": false,
     "start_time": "2022-11-03T19:20:28.651002",
     "status": "completed"
    },
    "tags": []
   },
   "outputs": [],
   "source": [
    "vectorizer = TfidfVectorizer(stop_words={'english'})\n",
    "X = vectorizer.fit_transform(wikis)"
   ]
  },
  {
   "cell_type": "code",
   "execution_count": 6,
   "id": "33da572f",
   "metadata": {
    "execution": {
     "iopub.execute_input": "2022-11-03T19:20:28.715670Z",
     "iopub.status.busy": "2022-11-03T19:20:28.715371Z",
     "iopub.status.idle": "2022-11-03T19:20:29.465711Z",
     "shell.execute_reply": "2022-11-03T19:20:29.464604Z"
    },
    "papermill": {
     "duration": 0.756604,
     "end_time": "2022-11-03T19:20:29.467982",
     "exception": false,
     "start_time": "2022-11-03T19:20:28.711378",
     "status": "completed"
    },
    "tags": []
   },
   "outputs": [
    {
     "data": {
      "image/png": "[encoded data removed]",
      "text/plain": [
       "<Figure size 432x288 with 1 Axes>"
      ]
     },
     "metadata": {
      "needs_background": "light"
     },
     "output_type": "display_data"
    }
   ],
   "source": [
    "Sum_of_squared_distances = []\n",
    "K = range(2,10)\n",
    "for k in K:\n",
    "   km = KMeans(n_clusters=k, max_iter=200, n_init=10)\n",
    "   km = km.fit(X)\n",
    "   Sum_of_squared_distances.append(km.inertia_)\n",
    "plt.plot(K, Sum_of_squared_distances, 'bx-')\n",
    "plt.xlabel('k')\n",
    "plt.ylabel('Sum_of_squared_distances')\n",
    "plt.title('Elbow Method For Optimal k')\n",
    "plt.show()"
   ]
  },
  {
   "cell_type": "code",
   "execution_count": null,
   "id": "cd90b36d",
   "metadata": {
    "papermill": {
     "duration": 0.00269,
     "end_time": "2022-11-03T19:20:29.473975",
     "exception": false,
     "start_time": "2022-11-03T19:20:29.471285",
     "status": "completed"
    },
    "tags": []
   },
   "outputs": [],
   "source": []
  }
 ],
 "metadata": {
  "kernelspec": {
   "display_name": "Python 3",
   "language": "python",
   "name": "python3"
  },
  "language_info": {
   "codemirror_mode": {
    "name": "ipython",
    "version": 3
   },
   "file_extension": ".py",
   "mimetype": "text/x-python",
   "name": "python",
   "nbconvert_exporter": "python",
   "pygments_lexer": "ipython3",
   "version": "3.7.12"
  },
  "papermill": {
   "default_parameters": {},
   "duration": 43.64102,
   "end_time": "2022-11-03T19:20:30.096323",
   "environment_variables": {},
   "exception": null,
   "input_path": "__notebook__.ipynb",
   "output_path": "__notebook__.ipynb",
   "parameters": {},
   "start_time": "2022-11-03T19:19:46.455303",
   "version": "2.3.4"
  }
 },
 "nbformat": 4,
 "nbformat_minor": 5
}
